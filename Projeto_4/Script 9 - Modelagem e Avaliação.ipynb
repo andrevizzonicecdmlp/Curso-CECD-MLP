{
 "cells": [
  {
   "cell_type": "code",
   "execution_count": 3,
   "id": "f8c8575c",
   "metadata": {},
   "outputs": [],
   "source": [
    "import pandas as pd\n",
    "import numpy as np\n",
    "import matplotlib.pyplot as plt\n",
    "from pathlib import Path\n",
    "from xgboost import XGBClassifier\n",
    "from sklearn.model_selection import train_test_split\n",
    "from sklearn.metrics import roc_auc_score, classification_report\n",
    "import pickle"
   ]
  },
  {
   "cell_type": "code",
   "execution_count": null,
   "id": "5f35e95d",
   "metadata": {},
   "outputs": [],
   "source": [
    "RESULTADOS_DIR = Path(\"Resultados/\")\n",
    "\n",
    "# --- função de feature engineering idêntica à do Script 5 ---\n",
    "def build_features(df):\n",
    "    df = df.copy()\n",
    "    # filtros prévios já aplicados antes de chamar esta função\n",
    "    df[\"startYear\"] = pd.to_numeric(df[\"startYear\"], errors=\"coerce\").fillna(-1).astype(int)\n",
    "    df[\"runtimeMinutes\"] = pd.to_numeric(df[\"runtimeMinutes\"], errors=\"coerce\").fillna(-1)\n",
    "    df[\"averageRating\"] = pd.to_numeric(df[\"averageRating\"], errors=\"coerce\").fillna(-1)\n",
    "    df[\"numVotes\"] = pd.to_numeric(df[\"numVotes\"], errors=\"coerce\").fillna(0)\n",
    "    df[\"genres\"] = df[\"genres\"].fillna(\"Unknown\")\n",
    "    df[\"idade_titulo\"] = (2025 - df[\"startYear\"]).clip(lower=0)\n",
    "\n",
    "    # gêneros -> k-1 dummies\n",
    "    df[\"genres\"] = df[\"genres\"].apply(lambda x: x if isinstance(x, list) else str(x).split(\",\"))\n",
    "    df_e = df.explode(\"genres\")\n",
    "    df_e[\"genres\"] = df_e[\"genres\"].str.strip()\n",
    "    gen_dum = pd.get_dummies(df_e[\"genres\"], prefix=\"genre\", drop_first=True)\n",
    "    gen_dum = gen_dum.groupby(df_e.index).max()\n",
    "    df = pd.concat([df, gen_dum], axis=1)\n",
    "\n",
    "    # tipo -> k-1 dummies\n",
    "    df = pd.get_dummies(df, columns=[\"titleType\"], prefix=\"type\", drop_first=True)\n",
    "\n",
    "    # normaliza match_score 0–1 se existir\n",
    "    if \"match_score\" in df.columns:\n",
    "        df[\"match_score\"] = pd.to_numeric(df[\"match_score\"], errors=\"coerce\").fillna(0)\n",
    "        df.loc[df[\"match_score\"] > 1, \"match_score\"] = df.loc[df[\"match_score\"] > 1, \"match_score\"]/100.0\n",
    "\n",
    "    return df"
   ]
  },
  {
   "cell_type": "code",
   "execution_count": 5,
   "id": "d09dfde5",
   "metadata": {},
   "outputs": [],
   "source": [
    "# --- carregar bases ---\n",
    "train_raw = pd.read_parquet(RESULTADOS_DIR / \"Base_Modelagem.parquet\", engine=\"fastparquet\")\n",
    "catalog_raw = pd.read_parquet(RESULTADOS_DIR / \"Catalogo_IMDB_Unido.parquet\", engine=\"fastparquet\")"
   ]
  },
  {
   "cell_type": "code",
   "execution_count": 6,
   "id": "dce83db7",
   "metadata": {},
   "outputs": [],
   "source": [
    "# --- filtros: só match perfeito, nota válida ---\n",
    "def only_valid_movies(df):\n",
    "    return df[(df[\"match_score\"] == 1.0) & (df[\"averageRating\"] != -1)].copy()\n",
    "\n",
    "train = only_valid_movies(train_raw)\n",
    "catalog_raw = only_valid_movies(catalog_raw)"
   ]
  },
  {
   "cell_type": "code",
   "execution_count": 7,
   "id": "fc7d5518",
   "metadata": {},
   "outputs": [
    {
     "name": "stdout",
     "output_type": "stream",
     "text": [
      "Treino (após filtros): 654\n",
      "Catálogo (após filtros): 7,410\n"
     ]
    }
   ],
   "source": [
    "# garantir coluna alvo no catálogo (negativos)\n",
    "if \"assistido\" not in catalog_raw.columns:\n",
    "    catalog_raw[\"assistido\"] = 0\n",
    "\n",
    "print(f\"Treino (após filtros): {len(train_raw):,}\")\n",
    "print(f\"Catálogo (após filtros): {len(catalog_raw):,}\")"
   ]
  },
  {
   "cell_type": "code",
   "execution_count": 8,
   "id": "f256e6cb",
   "metadata": {},
   "outputs": [],
   "source": [
    "# --- aplicar feature engineering consistente ---\n",
    "catalog_feat = build_features(catalog_raw)"
   ]
  },
  {
   "cell_type": "code",
   "execution_count": 9,
   "id": "566b07f8",
   "metadata": {},
   "outputs": [],
   "source": [
    "# --- definir X e y do treino (remover colunas textuais) ---\n",
    "drop_cols = [\"assistido\",\"netflix_title\",\"imdb_title\",\"genres\"]  # algumas podem não existir no catálogo\n",
    "X_cols = [c for c in train.columns if c not in drop_cols]\n",
    "X_train_full = train[X_cols].copy()\n",
    "y_train_full = train[\"assistido\"].astype(int)"
   ]
  },
  {
   "cell_type": "code",
   "execution_count": 10,
   "id": "5622a665",
   "metadata": {},
   "outputs": [],
   "source": [
    "# --- (importante) alinhar catálogo às colunas de treino ---\n",
    "catalog_feat_aligned = catalog_feat.reindex(columns=X_cols, fill_value=0)"
   ]
  },
  {
   "cell_type": "code",
   "execution_count": 11,
   "id": "fc5f895c",
   "metadata": {},
   "outputs": [],
   "source": [
    "# --- checar variabilidade do alvo (precisa de 0 e 1) ---\n",
    "if y_train_full.nunique() < 2:\n",
    "    # criar negativos a partir do catálogo (balanceado) para permitir treino\n",
    "    neg = catalog_feat_aligned.copy()\n",
    "    neg[\"assistido\"] = 0\n",
    "    pos = train[X_cols + [\"assistido\"]].copy()\n",
    "    pos[\"assistido\"] = 1\n",
    "    # balancear por min(len(pos), len(neg))\n",
    "    m = min(len(pos), len(neg))\n",
    "    df_bal = pd.concat([pos.sample(n=m, random_state=42), neg.sample(n=m, random_state=42)], ignore_index=True)\n",
    "    X = df_bal[X_cols]\n",
    "    y = df_bal[\"assistido\"].astype(int)\n",
    "else:\n",
    "    X = X_train_full\n",
    "    y = y_train_full"
   ]
  },
  {
   "cell_type": "code",
   "execution_count": 12,
   "id": "056aab60",
   "metadata": {},
   "outputs": [
    {
     "name": "stderr",
     "output_type": "stream",
     "text": [
      "c:\\Users\\arviz\\AppData\\Local\\Programs\\Python\\Python313\\Lib\\site-packages\\xgboost\\training.py:199: UserWarning: [18:21:59] WARNING: C:\\actions-runner\\_work\\xgboost\\xgboost\\src\\learner.cc:790: \n",
      "Parameters: { \"use_label_encoder\" } are not used.\n",
      "\n",
      "  bst.update(dtrain, iteration=i, fobj=obj)\n"
     ]
    },
    {
     "name": "stdout",
     "output_type": "stream",
     "text": [
      "AUC validação: 0.822\n",
      "              precision    recall  f1-score   support\n",
      "\n",
      "           0       0.74      0.74      0.74       125\n",
      "           1       0.74      0.74      0.74       124\n",
      "\n",
      "    accuracy                           0.74       249\n",
      "   macro avg       0.74      0.74      0.74       249\n",
      "weighted avg       0.74      0.74      0.74       249\n",
      "\n"
     ]
    }
   ],
   "source": [
    "# --- split, treino, avaliação ---\n",
    "X_tr, X_va, y_tr, y_va = train_test_split(X, y, test_size=0.2, stratify=y, random_state=42)\n",
    "\n",
    "model = XGBClassifier(\n",
    "    n_estimators=400, learning_rate=0.05, max_depth=6,\n",
    "    subsample=0.8, colsample_bytree=0.8,\n",
    "    random_state=42, use_label_encoder=False, eval_metric=\"logloss\"\n",
    ")\n",
    "model.fit(X_tr, y_tr)\n",
    "\n",
    "y_va_p = model.predict_proba(X_va)[:,1]\n",
    "print(f\"AUC validação: {roc_auc_score(y_va, y_va_p):.3f}\")\n",
    "print(classification_report(y_va, (y_va_p>=0.5).astype(int)))"
   ]
  },
  {
   "cell_type": "code",
   "execution_count": 13,
   "id": "e7c3a935",
   "metadata": {},
   "outputs": [
    {
     "name": "stdout",
     "output_type": "stream",
     "text": [
      "\n",
      "📊 Calculando importância das variáveis...\n",
      "\n",
      "Top 15 variáveis mais importantes:\n",
      "type_tvSeries        1.000\n",
      "genre_Reality-TV     0.270\n",
      "genre_Sci-Fi         0.193\n",
      "genre_Comedy         0.189\n",
      "genre_Thriller       0.162\n",
      "genre_Documentary    0.161\n",
      "numVotes             0.135\n",
      "genre_Horror         0.129\n",
      "genre_Biography      0.117\n",
      "genre_Romance        0.111\n",
      "genre_Animation      0.107\n",
      "startYear            0.105\n",
      "runtimeMinutes       0.104\n",
      "genre_Mystery        0.100\n",
      "genre_Family         0.100\n",
      "dtype: float32\n"
     ]
    },
    {
     "data": {
      "image/png": "[encoded data removed]",
      "text/plain": [
       "<Figure size 800x600 with 1 Axes>"
      ]
     },
     "metadata": {},
     "output_type": "display_data"
    },
    {
     "name": "stdout",
     "output_type": "stream",
     "text": [
      "💾 Importâncias salvas em: Resultados\\Importancia_Features_Modelo.csv\n"
     ]
    }
   ],
   "source": [
    "# -------------------------------------------------------------\n",
    "# 🔍 Importância das variáveis (explicabilidade)\n",
    "# -------------------------------------------------------------\n",
    "print(\"\\n📊 Calculando importância das variáveis...\\n\")\n",
    "\n",
    "# Cria série ordenada\n",
    "importances = pd.Series(model.feature_importances_, index=X.columns).sort_values(ascending=False)\n",
    "\n",
    "# Normaliza (0–1) para facilitar interpretação\n",
    "importances_norm = (importances / importances.max()).round(3)\n",
    "\n",
    "# Exibe top 15 no console\n",
    "print(\"Top 15 variáveis mais importantes:\")\n",
    "print(importances_norm.head(15))\n",
    "\n",
    "# Gráfico\n",
    "plt.figure(figsize=(8, 6))\n",
    "importances.head(15).plot(kind=\"barh\")\n",
    "plt.gca().invert_yaxis()\n",
    "plt.title(\"Top 15 Features mais Importantes (XGBoost)\")\n",
    "plt.xlabel(\"Importância\")\n",
    "plt.tight_layout()\n",
    "plt.show()\n",
    "\n",
    "# Salvar tabela completa de importância\n",
    "imp_path = RESULTADOS_DIR / \"Importancia_Features_Modelo.csv\"\n",
    "importances_norm.to_csv(imp_path, sep=\";\", decimal=\",\", encoding=\"utf-8-sig\")\n",
    "\n",
    "print(f\"💾 Importâncias salvas em: {imp_path}\")\n"
   ]
  },
  {
   "cell_type": "code",
   "execution_count": 14,
   "id": "2bb14321",
   "metadata": {},
   "outputs": [],
   "source": [
    "# --- aplicar no catálogo (já alinhado) ---\n",
    "catalog_probs = model.predict_proba(catalog_feat_aligned)[:,1]\n",
    "catalog_out = catalog_raw.copy()\n",
    "catalog_out[\"prob_assistir\"] = catalog_probs"
   ]
  },
  {
   "cell_type": "code",
   "execution_count": 15,
   "id": "8b500b58",
   "metadata": {},
   "outputs": [],
   "source": [
    "# salvar\n",
    "catalog_out.sort_values(\"prob_assistir\", ascending=False).to_csv(\n",
    "    RESULTADOS_DIR / \"Recomendacoes_Catalogo_MatchPerfeito.csv\",\n",
    "    sep=\";\", decimal=\",\", index=False, encoding=\"utf-8-sig\"\n",
    ")"
   ]
  },
  {
   "cell_type": "code",
   "execution_count": 16,
   "id": "3d5cde3a",
   "metadata": {},
   "outputs": [
    {
     "name": "stdout",
     "output_type": "stream",
     "text": [
      "\n",
      "✅ Modelo XGBoost salvo com sucesso em: Resultados\\Modelo_XGBoost_MatchPerfeito.pkl\n"
     ]
    }
   ],
   "source": [
    "modelo_path = RESULTADOS_DIR / \"Modelo_XGBoost_MatchPerfeito.pkl\"\n",
    "\n",
    "with open(modelo_path, \"wb\") as f:\n",
    "    pickle.dump(model, f)\n",
    "\n",
    "print(f\"\\n✅ Modelo XGBoost salvo com sucesso em: {modelo_path}\")"
   ]
  }
 ],
 "metadata": {
  "kernelspec": {
   "display_name": "Python 3",
   "language": "python",
   "name": "python3"
  },
  "language_info": {
   "codemirror_mode": {
    "name": "ipython",
    "version": 3
   },
   "file_extension": ".py",
   "mimetype": "text/x-python",
   "name": "python",
   "nbconvert_exporter": "python",
   "pygments_lexer": "ipython3",
   "version": "3.13.9"
  }
 },
 "nbformat": 4,
 "nbformat_minor": 5
}
